{
 "cells": [
  {
   "cell_type": "code",
   "execution_count": 1,
   "metadata": {
    "collapsed": true
   },
   "outputs": [],
   "source": [
    "import pandas as pd\n",
    "import random\n",
    "import time\n",
    "import string"
   ]
  },
  {
   "cell_type": "code",
   "execution_count": 2,
   "outputs": [],
   "source": [
    "class User:\n",
    "  def __init__(self, name, age, gender):\n",
    "    self.name = name\n",
    "    self.age = age\n",
    "    self.gender = gender\n",
    "\n",
    "def generate_users(n):\n",
    "  for i in range(n):\n",
    "    yield User(f\"name{i}\" + ''.join(random.choices(string.ascii_letters, k=10)), i, \"male\" if i%2==0 else \"female\")\n",
    "users = [u.__dict__ for u in generate_users(1000000)]\n",
    "df = pd.DataFrame(users)"
   ],
   "metadata": {
    "collapsed": false
   }
  },
  {
   "cell_type": "code",
   "execution_count": 3,
   "outputs": [],
   "source": [
    "formats = [\"csv\", \"json\", \"parquet\", \"xml\"]"
   ],
   "metadata": {
    "collapsed": false
   }
  },
  {
   "cell_type": "code",
   "execution_count": 4,
   "outputs": [
    {
     "name": "stdout",
     "output_type": "stream",
     "text": [
      "Time to save csv: 2.19s\n",
      "Time to save json: 0.75s\n",
      "Time to save parquet: 0.38s\n",
      "Time to save xml: 15.95s\n"
     ]
    }
   ],
   "source": [
    "for f in formats:\n",
    "  start = time.time()\n",
    "  getattr(df, f\"to_{f}\")(f\"users.{f}\")\n",
    "  elapsed = time.time() - start\n",
    "  print(f\"Time to save {f}: {elapsed:.2f}s\")"
   ],
   "metadata": {
    "collapsed": false
   }
  },
  {
   "cell_type": "code",
   "execution_count": 5,
   "outputs": [
    {
     "name": "stdout",
     "output_type": "stream",
     "text": [
      "Time to load csv: 0.80s\n",
      "Time to load json: 3.70s\n",
      "Time to load parquet: 0.42s\n",
      "Time to load xml: 31.04s\n"
     ]
    }
   ],
   "source": [
    "for f in formats:\n",
    "  start = time.time()\n",
    "  getattr(pd, f\"read_{f}\")(f\"users.{f}\")\n",
    "  elapsed = time.time() - start\n",
    "  print(f\"Time to load {f}: {elapsed:.2f}s\")\n"
   ],
   "metadata": {
    "collapsed": false
   }
  }
 ],
 "metadata": {
  "kernelspec": {
   "display_name": "Python 3",
   "language": "python",
   "name": "python3"
  },
  "language_info": {
   "codemirror_mode": {
    "name": "ipython",
    "version": 2
   },
   "file_extension": ".py",
   "mimetype": "text/x-python",
   "name": "python",
   "nbconvert_exporter": "python",
   "pygments_lexer": "ipython2",
   "version": "2.7.6"
  }
 },
 "nbformat": 4,
 "nbformat_minor": 0
}
